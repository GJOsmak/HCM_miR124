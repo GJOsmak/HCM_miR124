{
 "cells": [
  {
   "cell_type": "code",
   "execution_count": 3,
   "metadata": {},
   "outputs": [],
   "source": [
    "import pandas as pd\n",
    "import numpy as np\n",
    "from sklearn.model_selection import train_test_split, cross_val_score, GridSearchCV, RandomizedSearchCV\n",
    "from sklearn import metrics, linear_model, model_selection\n",
    "from sklearn.ensemble import BaggingRegressor, RandomForestRegressor, AdaBoostRegressor, BaggingClassifier, RandomForestClassifier\n",
    "from xgboost import XGBClassifier\n",
    "import xgboost as xgb\n",
    "from sklearn.tree import DecisionTreeRegressor\n",
    "from sklearn.preprocessing import StandardScaler\n",
    "import matplotlib.pyplot as plt\n",
    "from scipy.stats import hypergeom\n",
    "from statsmodels.stats.multitest import multipletests as multpl\n",
    "import GEOparse\n",
    "from scipy import stats as stat\n",
    "import random\n",
    "import networkx as nx\n",
    "from scipy.stats import mannwhitneyu\n",
    "from statsmodels.stats.multitest import multipletests\n",
    "import seaborn as sns\n",
    "\n",
    "roc_auc_scorer = metrics.make_scorer(metrics.roc_auc_score)\n",
    "scaler = StandardScaler()"
   ]
  },
  {
   "cell_type": "code",
   "execution_count": null,
   "metadata": {},
   "outputs": [],
   "source": [
    "#Подгружаем данные\n",
    "\n",
    "data = pd.read_csv('./Data/train_test.csv', index_col=0)\n",
    "data_valid = pd.read_csv('./Data/validation.csv', index_col=0)\n",
    "\n",
    "\n",
    "X = data.drop('index', axis=1)\n",
    "y = list(map(int, data['index'] == 'HCM'))\n",
    "\n",
    "X_valid = data_valid.drop('index', axis=1)\n",
    "y_valid = list(map(int, data_valid['index'] == 'HCM'))\n",
    "\n",
    "#X_valid_norm = scaler.fit_transform(X_valid)"
   ]
  },
  {
   "cell_type": "code",
   "execution_count": 3,
   "metadata": {},
   "outputs": [
    {
     "name": "stdout",
     "output_type": "stream",
     "text": [
      "(145, 14830)\n",
      "(16, 14830)\n"
     ]
    }
   ],
   "source": [
    "print(X.shape)\n",
    "print(X_valid.shape)"
   ]
  },
  {
   "cell_type": "code",
   "execution_count": 4,
   "metadata": {},
   "outputs": [
    {
     "data": {
      "text/plain": [
       "5"
      ]
     },
     "execution_count": 4,
     "metadata": {},
     "output_type": "execute_result"
    }
   ],
   "source": [
    "sum(y_valid)"
   ]
  },
  {
   "cell_type": "markdown",
   "metadata": {},
   "source": [
    "#             feature selection"
   ]
  },
  {
   "cell_type": "code",
   "execution_count": 253,
   "metadata": {},
   "outputs": [],
   "source": [
    "# train test split and normalisation\n",
    "\n",
    "\n",
    "X_train, X_test, y_train, y_test = train_test_split(X, y, test_size=0.2, random_state=42)\n",
    "X_train = scaler.fit_transform(X_train)\n",
    "#X_test = scaler.transform(X_test)"
   ]
  },
  {
   "cell_type": "code",
   "execution_count": 254,
   "metadata": {},
   "outputs": [],
   "source": [
    "C = np.array([10, 5, 1, 0.9, 0.8, 0.7, 0.6, 0.5, 0.4, 0.3, 0.2, 0.1, 0.05, 0.02])"
   ]
  },
  {
   "cell_type": "code",
   "execution_count": 255,
   "metadata": {},
   "outputs": [
    {
     "name": "stdout",
     "output_type": "stream",
     "text": [
      "0\n",
      "1\n",
      "2\n",
      "3\n",
      "4\n",
      "5\n",
      "6\n",
      "7\n",
      "8\n",
      "9\n",
      "10\n",
      "11\n",
      "12\n",
      "13\n",
      "14\n",
      "15\n",
      "16\n",
      "17\n",
      "18\n",
      "19\n"
     ]
    },
    {
     "data": {
      "text/html": [
       "[<matplotlib.lines.Line2D object at 0x7fd1925d5610>]"
      ],
      "text/plain": [
       "[<matplotlib.lines.Line2D at 0x7fd1925d5610>]"
      ]
     },
     "execution_count": 255,
     "metadata": {},
     "output_type": "execute_result"
    },
    {
     "data": {
      "image/png": "[encoded data removed]",
      "text/plain": [
       "<Figure size 432x288 with 1 Axes>"
      ]
     },
     "metadata": {
      "needs_background": "light"
     },
     "output_type": "display_data"
    }
   ],
   "source": [
    "# Подбираем коэффициент регуляризации\n",
    "\n",
    "result_df_train = pd.DataFrame()\n",
    "result_df_test = pd.DataFrame()\n",
    "\n",
    "for a in range(0,20):\n",
    "    print(a)\n",
    "    random_state = random.randint(1,100)\n",
    "    roc_auc_train = list()\n",
    "    roc_auc_test = list()\n",
    "    for i in C:\n",
    "        linear_regressor = linear_model.LogisticRegression(penalty='l1', C=i, solver='liblinear', random_state=random_state)\n",
    "        linear_regressor.fit(X_train, y_train)\n",
    "        roc_auc_train.append(np.mean(cross_val_score(linear_regressor, X_train, y_train, cv=3)))\n",
    "        roc_auc_test.append(metrics.roc_auc_score(y_test, linear_regressor.predict(X_test)))\n",
    "    result_df_train[a] = roc_auc_train\n",
    "    result_df_test[a] = roc_auc_test\n",
    "\n",
    "plt.plot(result_df_train.apply(np.mean, axis=1))\n",
    "plt.plot(result_df_test.apply(np.mean, axis=1))"
   ]
  },
  {
   "cell_type": "code",
   "execution_count": 256,
   "metadata": {},
   "outputs": [
    {
     "data": {
      "text/html": [
       "[<matplotlib.lines.Line2D object at 0x7fd12381fc90>]"
      ],
      "text/plain": [
       "[<matplotlib.lines.Line2D at 0x7fd12381fc90>]"
      ]
     },
     "execution_count": 256,
     "metadata": {},
     "output_type": "execute_result"
    },
    {
     "data": {
      "image/png": "[encoded data removed]",
      "text/plain": [
       "<Figure size 432x288 with 1 Axes>"
      ]
     },
     "metadata": {
      "needs_background": "light"
     },
     "output_type": "display_data"
    }
   ],
   "source": [
    "plt.plot(result_df_train.apply(np.mean, axis=1))"
   ]
  },
  {
   "cell_type": "code",
   "execution_count": 32,
   "metadata": {},
   "outputs": [],
   "source": [
    "best_features = dict()\n",
    "score_list = list()\n",
    "ITER = 1000\n",
    "for _ in range(0,ITER):\n",
    "    random_state = random.randint(1,500)\n",
    "    linear_regressor = linear_model.LogisticRegression(penalty='l1', C=C[11], solver='liblinear', random_state=random_state)\n",
    "    X_train, X_test, y_train, y_test = train_test_split(X, y, test_size=0.3, random_state=random_state)\n",
    "    linear_regressor.fit(X_train, y_train)\n",
    "    mask = linear_regressor.coef_ != 0\n",
    "    score = np.mean(cross_val_score(linear_regressor, X_test, y_test, cv=3))\n",
    "    score_list.append(score)\n",
    "    for i in X.columns[mask[0]]:\n",
    "        if i in best_features:\n",
    "            best_features[i]+=1/ITER*score\n",
    "        else:\n",
    "            best_features[i]=1/ITER*score"
   ]
  },
  {
   "cell_type": "code",
   "execution_count": 277,
   "metadata": {},
   "outputs": [
    {
     "data": {
      "text/plain": [
       "0.8439349206349207"
      ]
     },
     "execution_count": 277,
     "metadata": {},
     "output_type": "execute_result"
    }
   ],
   "source": [
    "np.mean(score_list)"
   ]
  },
  {
   "cell_type": "code",
   "execution_count": 258,
   "metadata": {},
   "outputs": [
    {
     "data": {
      "image/png": "[encoded data removed]",
      "text/plain": [
       "<Figure size 864x720 with 1 Axes>"
      ]
     },
     "metadata": {
      "needs_background": "light"
     },
     "output_type": "display_data"
    }
   ],
   "source": [
    "plt.figure(figsize=(12, 10))\n",
    "plt.hist(score_list, bins=20, color=(176/255, 0, 2/255, 1), alpha=0.7, edgecolor='black')\n",
    "plt.xlabel('ROC-AUC measure', fontsize=40)\n",
    "plt.ylabel('Counts', fontsize=40)\n",
    "plt.xticks(fontsize=26)\n",
    "plt.yticks(fontsize=26)\n",
    "# Убираем верхнюю и правую границы осей\n",
    "plt.gca().spines['top'].set_visible(False)\n",
    "plt.gca().spines['right'].set_visible(False)\n",
    "\n",
    "\n",
    "# Сохраняем гистограмму в файл\n",
    "plt.savefig('/Users/german/Dropbox/CardioCenter/Papers/2023/ML_miRNA/Results/histogram1_MC.png', dpi=300, bbox_inches='tight')\n",
    "\n",
    "plt.show()"
   ]
  },
  {
   "cell_type": "code",
   "execution_count": 278,
   "metadata": {},
   "outputs": [
    {
     "name": "stdout",
     "output_type": "stream",
     "text": [
      "PIK3IP1\n",
      "SMOC2\n",
      "LMOD2\n",
      "RASL11B\n",
      "ACE2\n",
      "SFRP1\n",
      "TPM3\n",
      "CENPA\n",
      "FRZB\n",
      "S100A9\n",
      "PROS1\n",
      "SERPINA3\n",
      "RASD1\n",
      "CA3\n",
      "THBS4\n",
      "CLIC6\n"
     ]
    }
   ],
   "source": [
    "for k, v in best_features.items():\n",
    "    if v > 0.6:\n",
    "        print(k)"
   ]
  },
  {
   "cell_type": "code",
   "execution_count": 80,
   "metadata": {},
   "outputs": [],
   "source": [
    "G = nx.read_graphml('/Users/german/Downloads/Download/mirnet.graphml')\n",
    "name_dict = dict()\n",
    "for node, data in G.nodes(data=True):\n",
    "    name_dict[node] = data['name']\n",
    "G = nx.relabel_nodes(G, name_dict)    "
   ]
  },
  {
   "cell_type": "code",
   "execution_count": 78,
   "metadata": {},
   "outputs": [],
   "source": [
    "node_attr = best_features.copy()"
   ]
  },
  {
   "cell_type": "code",
   "execution_count": 88,
   "metadata": {},
   "outputs": [],
   "source": [
    "for node in G.nodes():\n",
    "    if 'hsa-mir' in node:\n",
    "        neighbors = list(G.neighbors(node))\n",
    "        neighbor_weight_sum = sum([best_features[neighbor] for neighbor in neighbors])\n",
    "        node_attr[node] = neighbor_weight_sum"
   ]
  },
  {
   "cell_type": "code",
   "execution_count": 91,
   "metadata": {},
   "outputs": [],
   "source": [
    "nx.set_node_attributes(G, node_attr, 'weight')"
   ]
  },
  {
   "cell_type": "code",
   "execution_count": 96,
   "metadata": {},
   "outputs": [],
   "source": [
    "node_sizes = [G.nodes[node]['weight'] * 50 for node in G.nodes]"
   ]
  },
  {
   "cell_type": "code",
   "execution_count": 97,
   "metadata": {},
   "outputs": [
    {
     "data": {
      "image/png": "[encoded data removed]",
      "text/plain": [
       "<Figure size 432x288 with 1 Axes>"
      ]
     },
     "metadata": {},
     "output_type": "display_data"
    }
   ],
   "source": [
    "pos = nx.spring_layout(G)  # Вычисляем позиции узлов\n",
    "nx.draw(G, pos, with_labels=True, node_size=node_sizes, node_color='lightblue')\n",
    "\n",
    "plt.show()"
   ]
  },
  {
   "cell_type": "code",
   "execution_count": 225,
   "metadata": {},
   "outputs": [],
   "source": [
    "data = []\n",
    "\n",
    "# Проходим через каждый узел и получаем его соседей и вес\n",
    "for node in G.nodes:\n",
    "    neighbors = list(G.neighbors(node))\n",
    "    weight = G.nodes[node]['weight']\n",
    "    data.append({'Node': node, 'Neighbors': neighbors, 'Weight': weight})\n",
    "\n",
    "# Создаем DataFrame из списка данных\n",
    "df = pd.DataFrame(data)\n",
    "\n",
    "# Упорядочиваем DataFrame по параметру weight\n",
    "df = df.sort_values(by='Weight', ascending=False)"
   ]
  },
  {
   "cell_type": "code",
   "execution_count": 227,
   "metadata": {},
   "outputs": [],
   "source": [
    "df.to_csv('/Users/german/Dropbox/CardioCenter/Papers/2023/ML_miRNA/nodes_neigbors.csv', index=False)"
   ]
  },
  {
   "cell_type": "code",
   "execution_count": 99,
   "metadata": {},
   "outputs": [],
   "source": [
    "nodes_data = [(node, data['weight']) for node, data in G.nodes(data=True)]"
   ]
  },
  {
   "cell_type": "code",
   "execution_count": 101,
   "metadata": {},
   "outputs": [],
   "source": [
    "nodes_df = pd.DataFrame(nodes_data, columns=['Node', 'Weight'])"
   ]
  },
  {
   "cell_type": "code",
   "execution_count": 103,
   "metadata": {},
   "outputs": [],
   "source": [
    "edges_data = [(edge[0], edge[1]) for edge in G.edges()]\n",
    "edges_df = pd.DataFrame(edges_data, columns=['Source', 'Target'])"
   ]
  },
  {
   "cell_type": "code",
   "execution_count": 105,
   "metadata": {},
   "outputs": [],
   "source": [
    "edges_df.to_csv('./edges.csv', index=False)\n",
    "nodes_df.to_csv('./nodes.csv', index=False)"
   ]
  },
  {
   "cell_type": "code",
   "execution_count": 202,
   "metadata": {},
   "outputs": [],
   "source": [
    "interest_miRNA = {'hsa-miR-16-5p', 'hsa-miR-27a-3p', 'hsa-miR-10b-5p', 'hsa-miR-1-3p', 'hsa-miR-23b-3p', 'hsa-miR-133a-3p', 'hsa-miR-146a-5p', 'hsa-miR-335-5p', 'hsa-miR-27a-5p', 'hsa-let-7a-5p', 'hsa-let-7b-5p', 'hsa-let-7f-5p', 'hsa-let-7g-5p', 'hsa-let-7i-5p', 'hsa-miR-129-2-3p', 'hsa-miR-124-3p', 'hsa-miR-522-5p', 'hsa-miR-1343-3p', 'hsa-miR-106a-5p', 'hsa-miR-20a-5p', 'hsa-miR-30d-5p', 'hsa-miR-101-3p', 'hsa-miR-191-5p', 'hsa-miR-200c-3p', 'hsa-miR-429', 'hsa-miR-671-5p', 'hsa-miR-7-5p', 'hsa-miR-128-3p', 'hsa-miR-330-3p', 'hsa-miR-182-5p'}\n",
    "interest_miRNA_ = {'hsa-miR-16', 'hsa-miR-27a', 'hsa-miR-10b', 'hsa-miR-1', 'hsa-miR-23b', 'hsa-miR-133a', 'hsa-miR-146a', 'hsa-miR-335', 'hsa-miR-27a', 'hsa-let-7a', 'hsa-let-7b', 'hsa-let-7f', 'hsa-let-7g', 'hsa-let-7i', 'hsa-miR-129-2', 'hsa-miR-124', 'hsa-miR-522', 'hsa-miR-1343', 'hsa-miR-106a', 'hsa-miR-20a', 'hsa-miR-30d', 'hsa-miR-101', 'hsa-miR-191', 'hsa-miR-200c', 'hsa-miR-429', 'hsa-miR-671', 'hsa-miR-7-1', 'hsa-miR-128', 'hsa-miR-330', 'hsa-miR-182'}"
   ]
  },
  {
   "cell_type": "code",
   "execution_count": 203,
   "metadata": {},
   "outputs": [
    {
     "name": "stdout",
     "output_type": "stream",
     "text": [
      "ILMN_3167819 hsa-miR-522\n",
      "ILMN_3168208 hsa-miR-330-3p\n",
      "ILMN_3167510 hsa-miR-20a\n",
      "ILMN_3167253 hsa-miR-191\n",
      "ILMN_3167806 hsa-miR-429\n",
      "ILMN_3167002 hsa-miR-200c\n",
      "ILMN_3168483 hsa-miR-146a\n",
      "ILMN_3167989 hsa-miR-16\n",
      "ILMN_3168314 hsa-miR-133a\n",
      "ILMN_3167808 hsa-miR-101\n",
      "ILMN_3167276 hsa-miR-10b\n",
      "ILMN_3167996 hsa-miR-335\n",
      "ILMN_3167997 hsa-miR-23b\n",
      "ILMN_3167189 hsa-let-7f\n",
      "ILMN_3167971 hsa-let-7a\n",
      "ILMN_3167970 hsa-let-7b\n",
      "ILMN_3168365 hsa-let-7g\n",
      "ILMN_3168316 hsa-let-7i\n",
      "ILMN_3168320 hsa-miR-1\n",
      "ILMN_3167224 hsa-miR-30d\n",
      "ILMN_3168323 hsa-miR-27a\n",
      "ILMN_3167755 hsa-miR-182\n",
      "ILMN_3168544 hsa-miR-106a\n",
      "ILMN_3168606 hsa-miR-671-5p\n",
      "ILMN_3168781 hsa-miR-124\n",
      "ILMN_3168806 hsa-miR-128\n"
     ]
    }
   ],
   "source": [
    "ilmn_mirna = dict()\n",
    "for ind, name in enumerate(annotation.SYMBOL):\n",
    "    if name in interest_miRNA:\n",
    "        print(annotation.index[ind], name)\n",
    "        ilmn_mirna[annotation.index[ind]] = name\n",
    "        continue\n",
    "    if name in interest_miRNA_:\n",
    "        print(annotation.index[ind], name)\n",
    "        ilmn_mirna[annotation.index[ind]] = name"
   ]
  },
  {
   "cell_type": "code",
   "execution_count": 145,
   "metadata": {},
   "outputs": [
    {
     "data": {
      "text/html": [
       "<div>\n",
       "<style scoped>\n",
       "    .dataframe tbody tr th:only-of-type {\n",
       "        vertical-align: middle;\n",
       "    }\n",
       "\n",
       "    .dataframe tbody tr th {\n",
       "        vertical-align: top;\n",
       "    }\n",
       "\n",
       "    .dataframe thead th {\n",
       "        text-align: right;\n",
       "    }\n",
       "</style>\n",
       "<table border=\"1\" class=\"dataframe\">\n",
       "  <thead>\n",
       "    <tr style=\"text-align: right;\">\n",
       "      <th></th>\n",
       "      <th>SYMBOL</th>\n",
       "      <th>ILMN_Gene</th>\n",
       "      <th>Search_Key</th>\n",
       "      <th>Probe_Id</th>\n",
       "      <th>ProbeSeq</th>\n",
       "      <th>TargetMatureSeqs</th>\n",
       "      <th>TargetMatureName</th>\n",
       "      <th>NumTargets</th>\n",
       "      <th>TargetMatureVersion</th>\n",
       "      <th>OriginalMatureSeq</th>\n",
       "      <th>...</th>\n",
       "      <th>Array_Address_Id</th>\n",
       "      <th>Illumicode</th>\n",
       "      <th>Oligo</th>\n",
       "      <th>U3_Seq</th>\n",
       "      <th>Ploidy</th>\n",
       "      <th>Species</th>\n",
       "      <th>Probe_MatchOrder</th>\n",
       "      <th>Chromosome</th>\n",
       "      <th>Probe_Coordinates</th>\n",
       "      <th>Probe_Chr_Orientation</th>\n",
       "    </tr>\n",
       "  </thead>\n",
       "  <tbody>\n",
       "    <tr>\n",
       "      <th>ILMN_3167151</th>\n",
       "      <td>hsa-miR-553</td>\n",
       "      <td>hsa-miR-553</td>\n",
       "      <td>ILMN_3167151</td>\n",
       "      <td>AAAACGGTGAGATTTTGTT</td>\n",
       "      <td>AAAACGGTGAGATTTTGTTTT</td>\n",
       "      <td>hsa-miR-553</td>\n",
       "      <td>1.0</td>\n",
       "      <td>12.0</td>\n",
       "      <td>AAAACGGTGAGATTTTGTTTT</td>\n",
       "      <td>hsa-miR-553</td>\n",
       "      <td>...</td>\n",
       "      <td>TAGCTGGCCCACGAAATCTGCG</td>\n",
       "      <td>ACTTCGTCAGTAACGGACTAGCTGGCCCACGAAATCTGCGAAAACG...</td>\n",
       "      <td>ACTTCGTCAGTAACGGAC</td>\n",
       "      <td>diploid</td>\n",
       "      <td>human</td>\n",
       "      <td>1</td>\n",
       "      <td>1</td>\n",
       "      <td>100519399</td>\n",
       "      <td>+</td>\n",
       "      <td>NaN</td>\n",
       "    </tr>\n",
       "    <tr>\n",
       "      <th>ILMN_3167958</th>\n",
       "      <td>HS_124</td>\n",
       "      <td>HS_124</td>\n",
       "      <td>ILMN_3167958</td>\n",
       "      <td>AAAAGAACATGGGTTGAG</td>\n",
       "      <td>AAAAGAACATGGGTTGAG</td>\n",
       "      <td>HS_124</td>\n",
       "      <td>1.0</td>\n",
       "      <td>0.0</td>\n",
       "      <td>AAAAGAACATGGGTTGAG</td>\n",
       "      <td>HS_124</td>\n",
       "      <td>...</td>\n",
       "      <td>TGAGGTGACGCATCCCTCCATT</td>\n",
       "      <td>ACTTCGTCAGTAACGGACTGAGGTGACGCATCCCTCCATTAAAAGA...</td>\n",
       "      <td>ACTTCGTCAGTAACGGAC</td>\n",
       "      <td>diploid</td>\n",
       "      <td>human</td>\n",
       "      <td>1</td>\n",
       "      <td>0</td>\n",
       "      <td>0</td>\n",
       "      <td>+</td>\n",
       "      <td>NaN</td>\n",
       "    </tr>\n",
       "    <tr>\n",
       "      <th>ILMN_3167403</th>\n",
       "      <td>hsa-miR-320d,hsa-miR-320b,hsa-miR-320a,hsa-miR...</td>\n",
       "      <td>hsa-miR-320d,hsa-miR-320b,hsa-miR-320a,hsa-miR...</td>\n",
       "      <td>ILMN_3167403</td>\n",
       "      <td>AAAAGCTGGGTTGAGAGG</td>\n",
       "      <td>AAAAGCTGGGTTGAGAGGA,AAAAGCTGGGTTGAGAGGGCAA,AAA...</td>\n",
       "      <td>hsa-miR-320d,hsa-miR-320b,hsa-miR-320a,hsa-miR...</td>\n",
       "      <td>4.0</td>\n",
       "      <td>12.0</td>\n",
       "      <td>AAAAGCTGGGTTGAGAGGGCGAA</td>\n",
       "      <td>hsa-miR-320</td>\n",
       "      <td>...</td>\n",
       "      <td>ACCCGATGGATAGGTCGGTGAA</td>\n",
       "      <td>ACTTCGTCAGTAACGGACACCCGATGGATAGGTCGGTGAAAAAAGC...</td>\n",
       "      <td>ACTTCGTCAGTAACGGAC</td>\n",
       "      <td>diploid</td>\n",
       "      <td>human</td>\n",
       "      <td>2,2,1,2</td>\n",
       "      <td>13,X,1,1,8,18,18</td>\n",
       "      <td>40199983,139836022,117015931,222511396,2215845...</td>\n",
       "      <td>-,-,+,-,-,+,+</td>\n",
       "      <td>NaN</td>\n",
       "    </tr>\n",
       "    <tr>\n",
       "      <th>ILMN_3167819</th>\n",
       "      <td>hsa-miR-522</td>\n",
       "      <td>hsa-miR-522</td>\n",
       "      <td>ILMN_3167819</td>\n",
       "      <td>AAAATGGTTCCCTTTAGAGT</td>\n",
       "      <td>AAAATGGTTCCCTTTAGAGTGT</td>\n",
       "      <td>hsa-miR-522</td>\n",
       "      <td>1.0</td>\n",
       "      <td>12.0</td>\n",
       "      <td>AAAATGGTTCCCTTTAGAGTGTT</td>\n",
       "      <td>hsa-miR-522</td>\n",
       "      <td>...</td>\n",
       "      <td>CAGTAATCAGGCGTCTGTTGGC</td>\n",
       "      <td>ACTTCGTCAGTAACGGACCAGTAATCAGGCGTCTGTTGGCAAAATG...</td>\n",
       "      <td>ACTTCGTCAGTAACGGAC</td>\n",
       "      <td>diploid</td>\n",
       "      <td>human</td>\n",
       "      <td>1</td>\n",
       "      <td>19</td>\n",
       "      <td>58946329</td>\n",
       "      <td>+</td>\n",
       "      <td>NaN</td>\n",
       "    </tr>\n",
       "    <tr>\n",
       "      <th>ILMN_3167659</th>\n",
       "      <td>hsa-miR-1537</td>\n",
       "      <td>hsa-miR-1537</td>\n",
       "      <td>ILMN_3167659</td>\n",
       "      <td>AAACCGTCTAGTTACAGTTGT</td>\n",
       "      <td>AAAACCGTCTAGTTACAGTTGT</td>\n",
       "      <td>hsa-miR-1537</td>\n",
       "      <td>1.0</td>\n",
       "      <td>12.0</td>\n",
       "      <td>AAACCGTCTAGTTACAGTTGT</td>\n",
       "      <td>HS_92.1</td>\n",
       "      <td>...</td>\n",
       "      <td>CAGTCAGCAGCCGATCTCGGAT</td>\n",
       "      <td>ACTTCGTCAGTAACGGACCAGTCAGCAGCCGATCTCGGATAAACCG...</td>\n",
       "      <td>ACTTCGTCAGTAACGGAC</td>\n",
       "      <td>diploid</td>\n",
       "      <td>human</td>\n",
       "      <td>1</td>\n",
       "      <td>1</td>\n",
       "      <td>234082945</td>\n",
       "      <td>-</td>\n",
       "      <td>NaN</td>\n",
       "    </tr>\n",
       "    <tr>\n",
       "      <th>...</th>\n",
       "      <td>...</td>\n",
       "      <td>...</td>\n",
       "      <td>...</td>\n",
       "      <td>...</td>\n",
       "      <td>...</td>\n",
       "      <td>...</td>\n",
       "      <td>...</td>\n",
       "      <td>...</td>\n",
       "      <td>...</td>\n",
       "      <td>...</td>\n",
       "      <td>...</td>\n",
       "      <td>...</td>\n",
       "      <td>...</td>\n",
       "      <td>...</td>\n",
       "      <td>...</td>\n",
       "      <td>...</td>\n",
       "      <td>...</td>\n",
       "      <td>...</td>\n",
       "      <td>...</td>\n",
       "      <td>...</td>\n",
       "      <td>...</td>\n",
       "    </tr>\n",
       "    <tr>\n",
       "      <th>Contamination_Controls</th>\n",
       "      <td>2</td>\n",
       "      <td>Negative (snoRNA234-1)</td>\n",
       "      <td>PCR Contamination_Blue</td>\n",
       "      <td>TRUE</td>\n",
       "      <td>NaN</td>\n",
       "      <td>NaN</td>\n",
       "      <td>NaN</td>\n",
       "      <td>NaN</td>\n",
       "      <td>NaN</td>\n",
       "      <td>NaN</td>\n",
       "      <td>...</td>\n",
       "      <td>NaN</td>\n",
       "      <td>NaN</td>\n",
       "      <td>NaN</td>\n",
       "      <td>NaN</td>\n",
       "      <td>NaN</td>\n",
       "      <td>NaN</td>\n",
       "      <td>NaN</td>\n",
       "      <td>NaN</td>\n",
       "      <td>NaN</td>\n",
       "      <td>NaN</td>\n",
       "    </tr>\n",
       "    <tr>\n",
       "      <th>Extension_Controls</th>\n",
       "      <td>1</td>\n",
       "      <td>Perfect Match</td>\n",
       "      <td>extension mismatch control_Red</td>\n",
       "      <td>TRUE</td>\n",
       "      <td>NaN</td>\n",
       "      <td>NaN</td>\n",
       "      <td>NaN</td>\n",
       "      <td>NaN</td>\n",
       "      <td>NaN</td>\n",
       "      <td>NaN</td>\n",
       "      <td>...</td>\n",
       "      <td>NaN</td>\n",
       "      <td>NaN</td>\n",
       "      <td>NaN</td>\n",
       "      <td>NaN</td>\n",
       "      <td>NaN</td>\n",
       "      <td>NaN</td>\n",
       "      <td>NaN</td>\n",
       "      <td>NaN</td>\n",
       "      <td>NaN</td>\n",
       "      <td>NaN</td>\n",
       "    </tr>\n",
       "    <tr>\n",
       "      <th>Extension_Controls</th>\n",
       "      <td>2</td>\n",
       "      <td>Mismatch</td>\n",
       "      <td>extension mismatch control_Blue</td>\n",
       "      <td>TRUE</td>\n",
       "      <td>NaN</td>\n",
       "      <td>NaN</td>\n",
       "      <td>NaN</td>\n",
       "      <td>NaN</td>\n",
       "      <td>NaN</td>\n",
       "      <td>NaN</td>\n",
       "      <td>...</td>\n",
       "      <td>NaN</td>\n",
       "      <td>NaN</td>\n",
       "      <td>NaN</td>\n",
       "      <td>NaN</td>\n",
       "      <td>NaN</td>\n",
       "      <td>NaN</td>\n",
       "      <td>NaN</td>\n",
       "      <td>NaN</td>\n",
       "      <td>NaN</td>\n",
       "      <td>NaN</td>\n",
       "    </tr>\n",
       "    <tr>\n",
       "      <th>Hyb_Controls</th>\n",
       "      <td>1</td>\n",
       "      <td>Hyb 1</td>\n",
       "      <td>Array hyb control_Med</td>\n",
       "      <td>TRUE</td>\n",
       "      <td>NaN</td>\n",
       "      <td>NaN</td>\n",
       "      <td>NaN</td>\n",
       "      <td>NaN</td>\n",
       "      <td>NaN</td>\n",
       "      <td>NaN</td>\n",
       "      <td>...</td>\n",
       "      <td>NaN</td>\n",
       "      <td>NaN</td>\n",
       "      <td>NaN</td>\n",
       "      <td>NaN</td>\n",
       "      <td>NaN</td>\n",
       "      <td>NaN</td>\n",
       "      <td>NaN</td>\n",
       "      <td>NaN</td>\n",
       "      <td>NaN</td>\n",
       "      <td>NaN</td>\n",
       "    </tr>\n",
       "    <tr>\n",
       "      <th>Hyb_Controls</th>\n",
       "      <td>2</td>\n",
       "      <td>Hyb 2</td>\n",
       "      <td>Array hyb control_High</td>\n",
       "      <td>TRUE</td>\n",
       "      <td>NaN</td>\n",
       "      <td>NaN</td>\n",
       "      <td>NaN</td>\n",
       "      <td>NaN</td>\n",
       "      <td>NaN</td>\n",
       "      <td>NaN</td>\n",
       "      <td>...</td>\n",
       "      <td>NaN</td>\n",
       "      <td>NaN</td>\n",
       "      <td>NaN</td>\n",
       "      <td>NaN</td>\n",
       "      <td>NaN</td>\n",
       "      <td>NaN</td>\n",
       "      <td>NaN</td>\n",
       "      <td>NaN</td>\n",
       "      <td>NaN</td>\n",
       "      <td>NaN</td>\n",
       "    </tr>\n",
       "  </tbody>\n",
       "</table>\n",
       "<p>1231 rows × 22 columns</p>\n",
       "</div>"
      ],
      "text/plain": [
       "                                                                   SYMBOL  \\\n",
       "ILMN_3167151                                                  hsa-miR-553   \n",
       "ILMN_3167958                                                       HS_124   \n",
       "ILMN_3167403            hsa-miR-320d,hsa-miR-320b,hsa-miR-320a,hsa-miR...   \n",
       "ILMN_3167819                                                  hsa-miR-522   \n",
       "ILMN_3167659                                                 hsa-miR-1537   \n",
       "...                                                                   ...   \n",
       "Contamination_Controls                                                  2   \n",
       "Extension_Controls                                                      1   \n",
       "Extension_Controls                                                      2   \n",
       "Hyb_Controls                                                            1   \n",
       "Hyb_Controls                                                            2   \n",
       "\n",
       "                                                                ILMN_Gene  \\\n",
       "ILMN_3167151                                                  hsa-miR-553   \n",
       "ILMN_3167958                                                       HS_124   \n",
       "ILMN_3167403            hsa-miR-320d,hsa-miR-320b,hsa-miR-320a,hsa-miR...   \n",
       "ILMN_3167819                                                  hsa-miR-522   \n",
       "ILMN_3167659                                                 hsa-miR-1537   \n",
       "...                                                                   ...   \n",
       "Contamination_Controls                             Negative (snoRNA234-1)   \n",
       "Extension_Controls                                          Perfect Match   \n",
       "Extension_Controls                                               Mismatch   \n",
       "Hyb_Controls                                                        Hyb 1   \n",
       "Hyb_Controls                                                        Hyb 2   \n",
       "\n",
       "                                             Search_Key  \\\n",
       "ILMN_3167151                               ILMN_3167151   \n",
       "ILMN_3167958                               ILMN_3167958   \n",
       "ILMN_3167403                               ILMN_3167403   \n",
       "ILMN_3167819                               ILMN_3167819   \n",
       "ILMN_3167659                               ILMN_3167659   \n",
       "...                                                 ...   \n",
       "Contamination_Controls           PCR Contamination_Blue   \n",
       "Extension_Controls       extension mismatch control_Red   \n",
       "Extension_Controls      extension mismatch control_Blue   \n",
       "Hyb_Controls                      Array hyb control_Med   \n",
       "Hyb_Controls                     Array hyb control_High   \n",
       "\n",
       "                                     Probe_Id  \\\n",
       "ILMN_3167151              AAAACGGTGAGATTTTGTT   \n",
       "ILMN_3167958               AAAAGAACATGGGTTGAG   \n",
       "ILMN_3167403               AAAAGCTGGGTTGAGAGG   \n",
       "ILMN_3167819             AAAATGGTTCCCTTTAGAGT   \n",
       "ILMN_3167659            AAACCGTCTAGTTACAGTTGT   \n",
       "...                                       ...   \n",
       "Contamination_Controls                   TRUE   \n",
       "Extension_Controls                       TRUE   \n",
       "Extension_Controls                       TRUE   \n",
       "Hyb_Controls                             TRUE   \n",
       "Hyb_Controls                             TRUE   \n",
       "\n",
       "                                                                 ProbeSeq  \\\n",
       "ILMN_3167151                                        AAAACGGTGAGATTTTGTTTT   \n",
       "ILMN_3167958                                           AAAAGAACATGGGTTGAG   \n",
       "ILMN_3167403            AAAAGCTGGGTTGAGAGGA,AAAAGCTGGGTTGAGAGGGCAA,AAA...   \n",
       "ILMN_3167819                                       AAAATGGTTCCCTTTAGAGTGT   \n",
       "ILMN_3167659                                       AAAACCGTCTAGTTACAGTTGT   \n",
       "...                                                                   ...   \n",
       "Contamination_Controls                                                NaN   \n",
       "Extension_Controls                                                    NaN   \n",
       "Extension_Controls                                                    NaN   \n",
       "Hyb_Controls                                                          NaN   \n",
       "Hyb_Controls                                                          NaN   \n",
       "\n",
       "                                                         TargetMatureSeqs  \\\n",
       "ILMN_3167151                                                  hsa-miR-553   \n",
       "ILMN_3167958                                                       HS_124   \n",
       "ILMN_3167403            hsa-miR-320d,hsa-miR-320b,hsa-miR-320a,hsa-miR...   \n",
       "ILMN_3167819                                                  hsa-miR-522   \n",
       "ILMN_3167659                                                 hsa-miR-1537   \n",
       "...                                                                   ...   \n",
       "Contamination_Controls                                                NaN   \n",
       "Extension_Controls                                                    NaN   \n",
       "Extension_Controls                                                    NaN   \n",
       "Hyb_Controls                                                          NaN   \n",
       "Hyb_Controls                                                          NaN   \n",
       "\n",
       "                        TargetMatureName  NumTargets      TargetMatureVersion  \\\n",
       "ILMN_3167151                         1.0        12.0    AAAACGGTGAGATTTTGTTTT   \n",
       "ILMN_3167958                         1.0         0.0       AAAAGAACATGGGTTGAG   \n",
       "ILMN_3167403                         4.0        12.0  AAAAGCTGGGTTGAGAGGGCGAA   \n",
       "ILMN_3167819                         1.0        12.0  AAAATGGTTCCCTTTAGAGTGTT   \n",
       "ILMN_3167659                         1.0        12.0    AAACCGTCTAGTTACAGTTGT   \n",
       "...                                  ...         ...                      ...   \n",
       "Contamination_Controls               NaN         NaN                      NaN   \n",
       "Extension_Controls                   NaN         NaN                      NaN   \n",
       "Extension_Controls                   NaN         NaN                      NaN   \n",
       "Hyb_Controls                         NaN         NaN                      NaN   \n",
       "Hyb_Controls                         NaN         NaN                      NaN   \n",
       "\n",
       "                       OriginalMatureSeq  ...        Array_Address_Id  \\\n",
       "ILMN_3167151                 hsa-miR-553  ...  TAGCTGGCCCACGAAATCTGCG   \n",
       "ILMN_3167958                      HS_124  ...  TGAGGTGACGCATCCCTCCATT   \n",
       "ILMN_3167403                 hsa-miR-320  ...  ACCCGATGGATAGGTCGGTGAA   \n",
       "ILMN_3167819                 hsa-miR-522  ...  CAGTAATCAGGCGTCTGTTGGC   \n",
       "ILMN_3167659                     HS_92.1  ...  CAGTCAGCAGCCGATCTCGGAT   \n",
       "...                                  ...  ...                     ...   \n",
       "Contamination_Controls               NaN  ...                     NaN   \n",
       "Extension_Controls                   NaN  ...                     NaN   \n",
       "Extension_Controls                   NaN  ...                     NaN   \n",
       "Hyb_Controls                         NaN  ...                     NaN   \n",
       "Hyb_Controls                         NaN  ...                     NaN   \n",
       "\n",
       "                                                               Illumicode  \\\n",
       "ILMN_3167151            ACTTCGTCAGTAACGGACTAGCTGGCCCACGAAATCTGCGAAAACG...   \n",
       "ILMN_3167958            ACTTCGTCAGTAACGGACTGAGGTGACGCATCCCTCCATTAAAAGA...   \n",
       "ILMN_3167403            ACTTCGTCAGTAACGGACACCCGATGGATAGGTCGGTGAAAAAAGC...   \n",
       "ILMN_3167819            ACTTCGTCAGTAACGGACCAGTAATCAGGCGTCTGTTGGCAAAATG...   \n",
       "ILMN_3167659            ACTTCGTCAGTAACGGACCAGTCAGCAGCCGATCTCGGATAAACCG...   \n",
       "...                                                                   ...   \n",
       "Contamination_Controls                                                NaN   \n",
       "Extension_Controls                                                    NaN   \n",
       "Extension_Controls                                                    NaN   \n",
       "Hyb_Controls                                                          NaN   \n",
       "Hyb_Controls                                                          NaN   \n",
       "\n",
       "                                     Oligo   U3_Seq Ploidy  Species  \\\n",
       "ILMN_3167151            ACTTCGTCAGTAACGGAC  diploid  human        1   \n",
       "ILMN_3167958            ACTTCGTCAGTAACGGAC  diploid  human        1   \n",
       "ILMN_3167403            ACTTCGTCAGTAACGGAC  diploid  human  2,2,1,2   \n",
       "ILMN_3167819            ACTTCGTCAGTAACGGAC  diploid  human        1   \n",
       "ILMN_3167659            ACTTCGTCAGTAACGGAC  diploid  human        1   \n",
       "...                                    ...      ...    ...      ...   \n",
       "Contamination_Controls                 NaN      NaN    NaN      NaN   \n",
       "Extension_Controls                     NaN      NaN    NaN      NaN   \n",
       "Extension_Controls                     NaN      NaN    NaN      NaN   \n",
       "Hyb_Controls                           NaN      NaN    NaN      NaN   \n",
       "Hyb_Controls                           NaN      NaN    NaN      NaN   \n",
       "\n",
       "                        Probe_MatchOrder  \\\n",
       "ILMN_3167151                           1   \n",
       "ILMN_3167958                           0   \n",
       "ILMN_3167403            13,X,1,1,8,18,18   \n",
       "ILMN_3167819                          19   \n",
       "ILMN_3167659                           1   \n",
       "...                                  ...   \n",
       "Contamination_Controls               NaN   \n",
       "Extension_Controls                   NaN   \n",
       "Extension_Controls                   NaN   \n",
       "Hyb_Controls                         NaN   \n",
       "Hyb_Controls                         NaN   \n",
       "\n",
       "                                                               Chromosome  \\\n",
       "ILMN_3167151                                                    100519399   \n",
       "ILMN_3167958                                                            0   \n",
       "ILMN_3167403            40199983,139836022,117015931,222511396,2215845...   \n",
       "ILMN_3167819                                                     58946329   \n",
       "ILMN_3167659                                                    234082945   \n",
       "...                                                                   ...   \n",
       "Contamination_Controls                                                NaN   \n",
       "Extension_Controls                                                    NaN   \n",
       "Extension_Controls                                                    NaN   \n",
       "Hyb_Controls                                                          NaN   \n",
       "Hyb_Controls                                                          NaN   \n",
       "\n",
       "                       Probe_Coordinates Probe_Chr_Orientation  \n",
       "ILMN_3167151                           +                   NaN  \n",
       "ILMN_3167958                           +                   NaN  \n",
       "ILMN_3167403               -,-,+,-,-,+,+                   NaN  \n",
       "ILMN_3167819                           +                   NaN  \n",
       "ILMN_3167659                           -                   NaN  \n",
       "...                                  ...                   ...  \n",
       "Contamination_Controls               NaN                   NaN  \n",
       "Extension_Controls                   NaN                   NaN  \n",
       "Extension_Controls                   NaN                   NaN  \n",
       "Hyb_Controls                         NaN                   NaN  \n",
       "Hyb_Controls                         NaN                   NaN  \n",
       "\n",
       "[1231 rows x 22 columns]"
      ]
     },
     "execution_count": 145,
     "metadata": {},
     "output_type": "execute_result"
    }
   ],
   "source": [
    "annotation"
   ]
  },
  {
   "cell_type": "code",
   "execution_count": 204,
   "metadata": {},
   "outputs": [],
   "source": [
    "mir_data = pd.read_csv('/Users/german/Dropbox/CardioCenter/Papers/2023/ML_miRNA/Data/miRNA_dataset/GSE36946_non-normalized (1).txt', \n",
    "                       sep='\\t', index_col=0)\n",
    "annotation = pd.read_csv('/Users/german/Dropbox/CardioCenter/Papers/2023/ML_miRNA/Data/miRNA_dataset/GPL8179_humanMI_V2_R0_XS0000124-MAP.txt', sep='\\t')"
   ]
  },
  {
   "cell_type": "code",
   "execution_count": 205,
   "metadata": {},
   "outputs": [
    {
     "data": {
      "text/plain": [
       "Index(['12799_miRNA', '12799_miRNA.Pval', '1403_miRNA', '1403_miRNA.Pval',\n",
       "       '17_miRNA', '17_miRNA.Pval', '171102_miRNA', '171102_miRNA.Pval',\n",
       "       '18_miRNA', '18_miRNA.Pval',\n",
       "       ...\n",
       "       'RNM06_miRNA', 'RNM06_miRNA.Pval', 'RNM07_miRNA', 'RNM07_miRNA.Pval',\n",
       "       'RNM08_miRNA', 'RNM08_miRNA.Pval', 'RR632698_miRNA',\n",
       "       'RR632698_miRNA.Pval', 'RRNM09_miRNA', 'RRNM09_miRNA.Pval'],\n",
       "      dtype='object', length=254)"
      ]
     },
     "execution_count": 205,
     "metadata": {},
     "output_type": "execute_result"
    }
   ],
   "source": [
    "mir_data.columns"
   ]
  },
  {
   "cell_type": "code",
   "execution_count": 138,
   "metadata": {},
   "outputs": [
    {
     "name": "stdout",
     "output_type": "stream",
     "text": [
      "0\n",
      "1\n",
      "2\n"
     ]
    }
   ],
   "source": [
    "for i, m in enumerate(['a','c','d']):\n",
    "    print(i)"
   ]
  },
  {
   "cell_type": "code",
   "execution_count": 206,
   "metadata": {},
   "outputs": [],
   "source": [
    "mask = list()\n",
    "for ind, name in enumerate(mir_data.columns):\n",
    "    if '.Pval' not in name:\n",
    "        mask.append(ind)\n",
    "\n",
    "mask_row = list()\n",
    "for ind, name in enumerate(mir_data.index):\n",
    "    if name in ilmn_mirna.keys():\n",
    "        mask_row.append(ind)"
   ]
  },
  {
   "cell_type": "code",
   "execution_count": 207,
   "metadata": {},
   "outputs": [],
   "source": [
    "mir_data = mir_data.iloc[mask_row,mask]"
   ]
  },
  {
   "cell_type": "code",
   "execution_count": 208,
   "metadata": {},
   "outputs": [],
   "source": [
    "mir_data = mir_data.transpose()"
   ]
  },
  {
   "cell_type": "code",
   "execution_count": 209,
   "metadata": {},
   "outputs": [],
   "source": [
    "mir_data = mir_data.rename(columns=ilmn_mirna)"
   ]
  },
  {
   "cell_type": "code",
   "execution_count": 210,
   "metadata": {},
   "outputs": [],
   "source": [
    "sample_name = [\"7_miRNA\",\"R26_miRNA\",\"670934_miRNA\",\"NM10_miRNA\",\"666295_miRNA\",\"644621_miRNA\",\"37_miRNA\",\"R40_miRNA\",\"54_miRNA\",\"588103_miRNA\",\"R57_miRNA\",\"RNM07_miRNA\",\"20_miRNA\",\"RNM01_miRNA\",\"635265_miRNA\",\"635263_miRNA\",\"56_miRNA\",\"RRNM09_miRNA\",\"33_miRNA\",\"676073_miRNA\",\"25_miRNA\",\"18_miRNA\",\"22_miRNA\",\"639124_miRNA\",\"RR632698_miRNA\",\"R1_miRNA\",\"29_miRNA\",\"R16_miRNA\",\"R53_miRNA\",\"669841_miRNA\",\"9_miRNA\",\"17_miRNA\",\"24_miRNA\",\"656880_miRNA\",\"647526_miRNA\",\"R59_miRNA\",\"R607466_miRNA\",\"R619278_miRNA\",\"587005_miRNA\",\"36_miRNA\",\"44_miRNA\",\"RNM02_miRNA\",\"RNM05_miRNA\",\"RNM08_miRNA\",\"R32_miRNA\",\"649284_miRNA\",\"41_miRNA\",\"45_miRNA\",\"680701_miRNA\",\"R655639_miRNA\",\"632093_miRNA\",\"653513_miRNA\",\"653809_miRNA\",\"R342632_miRNA\",\"633322_miRNA\",\"656578_miRNA\",\"R8_miRNA\",\"R58_miRNA\",\"NM03_miRNA\",\"27_miRNA\",\"R50_miRNA\",\"RNM06_miRNA\",\"48_miRNA\",\"49_miRNA\",\"610700_miRNA\",\"R620009_miRNA\",\"46_miRNA\",\"R656518_miRNA\",\"370118_miRNA\",\"687046_miRNA\",\"653447_miRNA\",\"663702_miRNA\",\"663118_miRNA\",\"673367_miRNA\",\"683304_miRNA\",\"638751_miRNA\",\"645586_miRNA\",\"661552_miRNA\",\"631131_miRNA\",\"RNM04_miRNA\",\"653448_miRNA\",\"47_miRNA\",\"647527_miRNA\",\"637810_miRNA\",\"634021_miRNA\",\"R671993_miRNA\",\"R35_miRNA\",\"3_miRNA\",\"670152_miRNA\",\"30_miRNA\",\"631132_miRNA\",\"R633573_miRNA\",\"639649_miRNA\",\"39_miRNA\",\"28_miRNA\",\"673368_miRNA\",\"671852_miRNA\",\"43_miRNA\",\"629740_miRNA\",\"673482_miRNA\",\"R634935_miRNA\",\"R643724_miRNA\",\"639123_miRNA\",\"655638_miRNA\",\"627047_miRNA\",\"676236_miRNA\",\"R34_miRNA\",\"5089_miRNA\",\"5059_miRNA\",\"431840_miRNA\",\"R5144_miRNA\",\"R26309_miRNA\",\"R300305_miRNA\",\"R5126_miRNA\",\"5140_miRNA\",\"22100_miRNA\",\"171102_miRNA\",\"91099_miRNA\",\"191002_miRNA\",\"4049_miRNA\",\"1403_miRNA\",\"12799_miRNA\",\"4062_miRNA\",\"5603_miRNA\",\"A505654_miRNA\",\"A702013_miRNA\",\"A809126_miRNA\"]\n",
    "sample_status = [\"HCM\",\"HCM\",\"HCM\",\"HCM\",\"HCM\",\"HCM\",\"HCM\",\"HCM\",\"HCM\",\"HCM\",\"HCM\",\"HCM\",\"HCM\",\"HCM\",\"HCM\",\"HCM\",\"HCM\",\"HCM\",\"HCM\",\"HCM\",\"HCM\",\"HCM\",\"HCM\",\"HCM\",\"HCM\",\"HCM\",\"HCM\",\"HCM\",\"HCM\",\"HCM\",\"HCM\",\"HCM\",\"HCM\",\"HCM\",\"HCM\",\"HCM\",\"HCM\",\"HCM\",\"HCM\",\"HCM\",\"HCM\",\"HCM\",\"HCM\",\"HCM\",\"HCM\",\"HCM\",\"HCM\",\"HCM\",\"HCM\",\"HCM\",\"HCM\",\"HCM\",\"HCM\",\"HCM\",\"HCM\",\"HCM\",\"HCM\",\"HCM\",\"HCM\",\"HCM\",\"HCM\",\"HCM\",\"HCM\",\"HCM\",\"HCM\",\"HCM\",\"HCM\",\"HCM\",\"HCM\",\"HCM\",\"HCM\",\"HCM\",\"HCM\",\"HCM\",\"HCM\",\"HCM\",\"HCM\",\"HCM\",\"HCM\",\"HCM\",\"HCM\",\"HCM\",\"HCM\",\"HCM\",\"HCM\",\"HCM\",\"HCM\",\"HCM\",\"HCM\",\"HCM\",\"HCM\",\"HCM\",\"HCM\",\"HCM\",\"HCM\",\"HCM\",\"HCM\",\"HCM\",\"HCM\",\"HCM\",\"HCM\",\"HCM\",\"HCM\",\"HCM\",\"HCM\",\"HCM\",\"HCM\",\"CTRL\",\"CTRL\",\"CTRL\",\"CTRL\",\"CTRL\",\"CTRL\",\"CTRL\",\"CTRL\",\"CTRL\",\"CTRL\",\"CTRL\",\"CTRL\",\"CTRL\",\"CTRL\",\"CTRL\",\"CTRL\",\"CTRL\",\"CTRL\",\"CTRL\",\"CTRL\"]\n",
    "\n",
    "sample_dict = dict()\n",
    "for i in range(len(sample_name)):\n",
    "    sample_dict[sample_name[i]] = sample_status[i]"
   ]
  },
  {
   "cell_type": "code",
   "execution_count": 211,
   "metadata": {},
   "outputs": [],
   "source": [
    "mir_data_target = list()\n",
    "\n",
    "for i in mir_data.index:\n",
    "    if sample_dict[i] == \"HCM\":\n",
    "        mir_data_target.append(1)\n",
    "    else:\n",
    "        mir_data_target.append(0)"
   ]
  },
  {
   "cell_type": "code",
   "execution_count": 212,
   "metadata": {},
   "outputs": [
    {
     "data": {
      "text/html": [
       "[0, 0, 1, 0, 1, 0, 1, 1, 0, 1, 1, 1, 1, 1, 1, 1, 1, 1, 1, 1, 1, 0, 0, 1, 1, 0, 1, 1, 1, 1, 1, 1, 0, 0, 0, 1, 1, 0, 1, 1, 1, 1, 1, 1, 1, 1, 1, 1, 1, 1, 1, 1, 1, 1, 1, 1, 1, 1, 1, 1, 1, 1, 1, 1, 1, 1, 1, 1, 1, 1, 1, 1, 1, 1, 1, 1, 1, 1, 1, 1, 1, 1, 1, 1, 1, 0, 0, 0, 0, 1, 1, 1, 1, 1, 0, 0, 1, 1, 1, 1, 1, 1, 0, 0, 1, 1, 1, 1, 1, 1, 1, 1, 1, 1, 1, 1, 1, 1, 1, 1, 1, 1, 1, 1, 1, 1, 1]"
      ],
      "text/plain": [
       "[0,\n",
       " 0,\n",
       " 1,\n",
       " 0,\n",
       " 1,\n",
       " 0,\n",
       " 1,\n",
       " 1,\n",
       " 0,\n",
       " 1,\n",
       " 1,\n",
       " 1,\n",
       " 1,\n",
       " 1,\n",
       " 1,\n",
       " 1,\n",
       " 1,\n",
       " 1,\n",
       " 1,\n",
       " 1,\n",
       " 1,\n",
       " 0,\n",
       " 0,\n",
       " 1,\n",
       " 1,\n",
       " 0,\n",
       " 1,\n",
       " 1,\n",
       " 1,\n",
       " 1,\n",
       " 1,\n",
       " 1,\n",
       " 0,\n",
       " 0,\n",
       " 0,\n",
       " 1,\n",
       " 1,\n",
       " 0,\n",
       " 1,\n",
       " 1,\n",
       " 1,\n",
       " 1,\n",
       " 1,\n",
       " 1,\n",
       " 1,\n",
       " 1,\n",
       " 1,\n",
       " 1,\n",
       " 1,\n",
       " 1,\n",
       " 1,\n",
       " 1,\n",
       " 1,\n",
       " 1,\n",
       " 1,\n",
       " 1,\n",
       " 1,\n",
       " 1,\n",
       " 1,\n",
       " 1,\n",
       " 1,\n",
       " 1,\n",
       " 1,\n",
       " 1,\n",
       " 1,\n",
       " 1,\n",
       " 1,\n",
       " 1,\n",
       " 1,\n",
       " 1,\n",
       " 1,\n",
       " 1,\n",
       " 1,\n",
       " 1,\n",
       " 1,\n",
       " 1,\n",
       " 1,\n",
       " 1,\n",
       " 1,\n",
       " 1,\n",
       " 1,\n",
       " 1,\n",
       " 1,\n",
       " 1,\n",
       " 1,\n",
       " 0,\n",
       " 0,\n",
       " 0,\n",
       " 0,\n",
       " 1,\n",
       " 1,\n",
       " 1,\n",
       " 1,\n",
       " 1,\n",
       " 0,\n",
       " 0,\n",
       " 1,\n",
       " 1,\n",
       " 1,\n",
       " 1,\n",
       " 1,\n",
       " 1,\n",
       " 0,\n",
       " 0,\n",
       " 1,\n",
       " 1,\n",
       " 1,\n",
       " 1,\n",
       " 1,\n",
       " 1,\n",
       " 1,\n",
       " 1,\n",
       " 1,\n",
       " 1,\n",
       " 1,\n",
       " 1,\n",
       " 1,\n",
       " 1,\n",
       " 1,\n",
       " 1,\n",
       " 1,\n",
       " 1,\n",
       " 1,\n",
       " 1,\n",
       " 1,\n",
       " 1,\n",
       " 1]"
      ]
     },
     "execution_count": 212,
     "metadata": {},
     "output_type": "execute_result"
    }
   ],
   "source": [
    "mir_data_target"
   ]
  },
  {
   "cell_type": "code",
   "execution_count": 274,
   "metadata": {},
   "outputs": [
    {
     "name": "stdout",
     "output_type": "stream",
     "text": [
      "Столбец 'hsa-let-7a': P-значение (поправка): 0.15672464200952785\n",
      "\n",
      "Столбец 'hsa-let-7b': P-значение (поправка): 0.15672464200952785\n",
      "\n",
      "Столбец 'hsa-let-7f': P-значение (поправка): 0.15672464200952785\n",
      "\n",
      "Столбец 'hsa-let-7g': P-значение (поправка): 0.15773612743480445\n",
      "\n",
      "Столбец 'hsa-let-7i': P-значение (поправка): 0.15672464200952785\n",
      "\n",
      "Столбец 'hsa-miR-1': P-значение (поправка): 0.15672464200952785\n",
      "\n",
      "Столбец 'hsa-miR-101': P-значение (поправка): 0.4536791782081802\n",
      "\n",
      "Столбец 'hsa-miR-106a': P-значение (поправка): 0.04148794983807208\n",
      "Отвергаем нулевую гипотезу: выборки неоднородны.\n",
      "\n",
      "Столбец 'hsa-miR-10b': P-значение (поправка): 0.12591864880247358\n",
      "\n",
      "Столбец 'hsa-miR-124': P-значение (поправка): 0.04148794983807208\n",
      "Отвергаем нулевую гипотезу: выборки неоднородны.\n",
      "\n",
      "Столбец 'hsa-miR-128': P-значение (поправка): 0.22885822758892785\n",
      "\n",
      "Столбец 'hsa-miR-133a': P-значение (поправка): 0.1686609465077035\n",
      "\n",
      "Столбец 'hsa-miR-146a': P-значение (поправка): 0.05484783597524915\n",
      "\n",
      "Столбец 'hsa-miR-16': P-значение (поправка): 0.2494721535470031\n",
      "\n",
      "Столбец 'hsa-miR-182': P-значение (поправка): 0.22937480259378273\n",
      "\n",
      "Столбец 'hsa-miR-191': P-значение (поправка): 0.6079579778402148\n",
      "\n",
      "Столбец 'hsa-miR-200c': P-значение (поправка): 0.7835603358790636\n",
      "\n",
      "Столбец 'hsa-miR-20a': P-значение (поправка): 0.06583721862503049\n",
      "\n",
      "Столбец 'hsa-miR-23b': P-значение (поправка): 0.2494721535470031\n",
      "\n",
      "Столбец 'hsa-miR-27a': P-значение (поправка): 0.19703374934772688\n",
      "\n",
      "Столбец 'hsa-miR-30d': P-значение (поправка): 0.15672464200952785\n",
      "\n",
      "Столбец 'hsa-miR-330-3p': P-значение (поправка): 0.6079579778402148\n",
      "\n",
      "Столбец 'hsa-miR-335': P-значение (поправка): 0.6941651293013137\n",
      "\n",
      "Столбец 'hsa-miR-429': P-значение (поправка): 0.6510380311524411\n",
      "\n",
      "Столбец 'hsa-miR-522': P-значение (поправка): 0.15174929829087602\n",
      "\n",
      "Столбец 'hsa-miR-671-5p': P-значение (поправка): 0.7702895203921505\n",
      "\n"
     ]
    },
    {
     "data": {
      "image/png": "[encoded data removed]",
      "text/plain": [
       "<Figure size 576x1008 with 1 Axes>"
      ]
     },
     "metadata": {
      "needs_background": "light"
     },
     "output_type": "display_data"
    },
    {
     "data": {
      "image/png": "[encoded data removed]",
      "text/plain": [
       "<Figure size 576x1008 with 1 Axes>"
      ]
     },
     "metadata": {
      "needs_background": "light"
     },
     "output_type": "display_data"
    }
   ],
   "source": [
    "def mannwhitney_test(column, targets):\n",
    "    group_0 = column[targets == 0]\n",
    "    group_1 = column[targets == 1]\n",
    "    statistic, p_value = mannwhitneyu(group_0, group_1)\n",
    "    return p_value\n",
    "\n",
    "# Применяем функцию к каждому столбцу\n",
    "p_values = mir_data.apply(mannwhitney_test, args=(np.array(mir_data_target),))\n",
    "\n",
    "# Уровень значимости\n",
    "alpha = 0.05\n",
    "_, p_values_corrected, _, _ = multipletests(p_values, alpha=0.05, method='fdr_bh')\n",
    "\n",
    "for column, p_value_corrected in zip(p_values.index, p_values_corrected):\n",
    "    print(f\"Столбец '{column}': P-значение (поправка): {p_value_corrected}\")\n",
    "    if p_value_corrected < alpha:\n",
    "        print(\"Отвергаем нулевую гипотезу: выборки неоднородны.\")\n",
    "    print()\n",
    "\n",
    "# Задаем цвета боксплотов в формате RGB\n",
    "boxplot_colors = [(0, 126/255, 72/255, 1), (176/255, 0, 2/255, 1)]  # Пример цветов (красный, зеленый)\n",
    "\n",
    "for column, p_value_corrected in zip(p_values.index, p_values_corrected):\n",
    "    if p_value_corrected < 0.05:\n",
    "        significant_column = mir_data[column]\n",
    "        plt.figure(figsize=(8, 14))\n",
    "        sns.boxplot(x=mir_data_target, y=significant_column, palette=boxplot_colors)\n",
    "        plt.ylabel(column, fontsize=40)\n",
    "        plt.xticks(fontsize=26)\n",
    "        plt.yticks(fontsize=26)\n",
    "        # Убираем верхнюю и правую границы осей\n",
    "        plt.gca().spines['top'].set_visible(False)\n",
    "        plt.gca().spines['right'].set_visible(False)\n",
    "        plt.xticks([0, 1], ['CTRL', 'HCM'])  # Заменяем метки на оси x\n",
    "        \n",
    "        filepath = '/Users/german/Dropbox/CardioCenter/Papers/2023/ML_miRNA/Results/'  # Замените на свой путь\n",
    "        filename = f'{filepath}{column}_boxplot.png'\n",
    "        \n",
    "        plt.savefig(filename, bbox_inches='tight')\n",
    "        \n",
    "        plt.show()"
   ]
  },
  {
   "cell_type": "code",
   "execution_count": 264,
   "metadata": {},
   "outputs": [
    {
     "data": {
      "text/plain": [
       "ID_REF\n",
       "hsa-let-7a        0.060596\n",
       "hsa-let-7b        0.072334\n",
       "hsa-let-7f        0.067235\n",
       "hsa-let-7g        0.078868\n",
       "hsa-let-7i        0.064320\n",
       "hsa-miR-1         0.057053\n",
       "hsa-miR-101       0.348984\n",
       "hsa-miR-106a      0.003191\n",
       "hsa-miR-10b       0.024215\n",
       "hsa-miR-124       0.002595\n",
       "hsa-miR-128       0.140836\n",
       "hsa-miR-133a      0.090817\n",
       "hsa-miR-146a      0.006329\n",
       "hsa-miR-16        0.182307\n",
       "hsa-miR-182       0.149976\n",
       "hsa-miR-191       0.512299\n",
       "hsa-miR-200c      0.783560\n",
       "hsa-miR-20a       0.010129\n",
       "hsa-miR-23b       0.175882\n",
       "hsa-miR-27a       0.113673\n",
       "hsa-miR-30d       0.072334\n",
       "hsa-miR-330-3p    0.514426\n",
       "hsa-miR-335       0.640768\n",
       "hsa-miR-429       0.575918\n",
       "hsa-miR-522       0.035019\n",
       "hsa-miR-671-5p    0.740663\n",
       "dtype: float64"
      ]
     },
     "execution_count": 264,
     "metadata": {},
     "output_type": "execute_result"
    }
   ],
   "source": []
  },
  {
   "cell_type": "code",
   "execution_count": 266,
   "metadata": {},
   "outputs": [],
   "source": [
    "miR_test_df = pd.DataFrame({'miR':p_values.index, 'p_value_adj':p_values_corrected, 'p_value':p_values})\n",
    "miR_test_df.to_csv('/Users/german/Dropbox/CardioCenter/Papers/2023/ML_miRNA/Results/miR_test.csv', index=True)"
   ]
  },
  {
   "cell_type": "code",
   "execution_count": 214,
   "metadata": {},
   "outputs": [
    {
     "name": "stdout",
     "output_type": "stream",
     "text": [
      "Столбец 'hsa-let-7a': P-значение: 0.06059620908865763\n",
      "\n",
      "Столбец 'hsa-let-7b': P-значение: 0.07233445015824362\n",
      "\n",
      "Столбец 'hsa-let-7f': P-значение: 0.06723517454652524\n",
      "\n",
      "Столбец 'hsa-let-7g': P-значение: 0.07886806371740222\n",
      "\n",
      "Столбец 'hsa-let-7i': P-значение: 0.06431962334922223\n",
      "\n",
      "Столбец 'hsa-miR-1': P-значение: 0.0570528684517723\n",
      "\n",
      "Столбец 'hsa-miR-101': P-значение: 0.3489839832370617\n",
      "\n",
      "Столбец 'hsa-miR-106a': P-значение: 0.0031913807567747754\n",
      "Отвергаем нулевую гипотезу: выборки неоднородны.\n",
      "\n",
      "Столбец 'hsa-miR-10b': P-значение: 0.02421512476970646\n",
      "Отвергаем нулевую гипотезу: выборки неоднородны.\n",
      "\n",
      "Столбец 'hsa-miR-124': P-значение: 0.0025947935425289794\n",
      "Отвергаем нулевую гипотезу: выборки неоднородны.\n",
      "\n",
      "Столбец 'hsa-miR-128': P-значение: 0.14083583236241715\n",
      "\n",
      "Столбец 'hsa-miR-133a': P-значение: 0.09081743273491726\n",
      "\n",
      "Столбец 'hsa-miR-146a': P-значение: 0.006328596458682594\n",
      "Отвергаем нулевую гипотезу: выборки неоднородны.\n",
      "\n",
      "Столбец 'hsa-miR-16': P-значение: 0.18230657374588688\n",
      "\n",
      "Столбец 'hsa-miR-182': P-значение: 0.14997583246516563\n",
      "\n",
      "Столбец 'hsa-miR-191': P-значение: 0.5122988537532275\n",
      "\n",
      "Столбец 'hsa-miR-200c': P-значение: 0.7835603358790636\n",
      "\n",
      "Столбец 'hsa-miR-20a': P-значение: 0.010128802865389306\n",
      "Отвергаем нулевую гипотезу: выборки неоднородны.\n",
      "\n",
      "Столбец 'hsa-miR-23b': P-значение: 0.17588158305873935\n",
      "\n",
      "Столбец 'hsa-miR-27a': P-значение: 0.11367331693138089\n",
      "\n",
      "Столбец 'hsa-miR-30d': P-значение: 0.07233445015824362\n",
      "\n",
      "Столбец 'hsa-miR-330-3p': P-значение: 0.5144259812494125\n",
      "\n",
      "Столбец 'hsa-miR-335': P-значение: 0.6407678116627511\n",
      "\n",
      "Столбец 'hsa-miR-429': P-значение: 0.5759182583271594\n",
      "\n",
      "Столбец 'hsa-miR-522': P-значение: 0.035019068836356006\n",
      "Отвергаем нулевую гипотезу: выборки неоднородны.\n",
      "\n",
      "Столбец 'hsa-miR-671-5p': P-значение: 0.7406630003770678\n",
      "\n"
     ]
    }
   ],
   "source": [
    "def mannwhitney_test(column, targets):\n",
    "    group_0 = column[targets == 0]\n",
    "    group_1 = column[targets == 1]\n",
    "    statistic, p_value = mannwhitneyu(group_0, group_1)\n",
    "    return p_value\n",
    "\n",
    "# Применяем функцию к каждому столбцу\n",
    "p_values = mir_data.apply(mannwhitney_test, args=(np.array(mir_data_target),))\n",
    "\n",
    "# Уровень значимости\n",
    "alpha = 0.05\n",
    "\n",
    "for column, p_value in p_values.items():\n",
    "    print(f\"Столбец '{column}': P-значение: {p_value}\")\n",
    "    if p_value < alpha:\n",
    "        print(\"Отвергаем нулевую гипотезу: выборки неоднородны.\")\n",
    "    print()"
   ]
  },
  {
   "cell_type": "code",
   "execution_count": 193,
   "metadata": {},
   "outputs": [
    {
     "data": {
      "text/plain": [
       "ID_REF\n",
       "hsa-let-7a        6.059621e-02\n",
       "hsa-let-7b        7.233445e-02\n",
       "hsa-let-7f        6.723517e-02\n",
       "hsa-let-7g        7.886806e-02\n",
       "hsa-let-7i        6.431962e-02\n",
       "hsa-miR-1         5.705287e-02\n",
       "hsa-miR-101       3.489840e-01\n",
       "hsa-miR-106a      3.191381e-03\n",
       "hsa-miR-10b       2.421512e-02\n",
       "hsa-miR-124       2.594794e-03\n",
       "hsa-miR-128       1.408358e-01\n",
       "hsa-miR-133a      9.081743e-02\n",
       "hsa-miR-146a      6.328596e-03\n",
       "hsa-miR-16        1.823066e-01\n",
       "hsa-miR-182       1.499758e-01\n",
       "hsa-miR-191       5.122989e-01\n",
       "hsa-miR-200c      7.835603e-01\n",
       "hsa-miR-20a       1.012880e-02\n",
       "hsa-miR-23b       1.758816e-01\n",
       "hsa-miR-27a       1.136733e-01\n",
       "hsa-miR-30d       7.233445e-02\n",
       "hsa-miR-330-3p    5.144260e-01\n",
       "hsa-miR-335       6.407678e-01\n",
       "hsa-miR-429       5.759183e-01\n",
       "hsa-miR-522       3.501907e-02\n",
       "hsa-miR-671-5p    7.406630e-01\n",
       "hsa-miR-7         3.007758e-07\n",
       "dtype: float64"
      ]
     },
     "execution_count": 193,
     "metadata": {},
     "output_type": "execute_result"
    }
   ],
   "source": [
    "p_values"
   ]
  },
  {
   "cell_type": "code",
   "execution_count": null,
   "metadata": {},
   "outputs": [],
   "source": []
  },
  {
   "cell_type": "code",
   "execution_count": null,
   "metadata": {},
   "outputs": [],
   "source": []
  },
  {
   "cell_type": "code",
   "execution_count": null,
   "metadata": {},
   "outputs": [],
   "source": []
  },
  {
   "cell_type": "code",
   "execution_count": null,
   "metadata": {},
   "outputs": [],
   "source": []
  },
  {
   "cell_type": "code",
   "execution_count": null,
   "metadata": {},
   "outputs": [],
   "source": []
  }
 ],
 "metadata": {
  "kernelspec": {
   "display_name": "Python 3 (ipykernel)",
   "language": "python",
   "name": "python3"
  },
  "language_info": {
   "codemirror_mode": {
    "name": "ipython",
    "version": 3
   },
   "file_extension": ".py",
   "mimetype": "text/x-python",
   "name": "python",
   "nbconvert_exporter": "python",
   "pygments_lexer": "ipython3",
   "version": "3.7.6"
  }
 },
 "nbformat": 4,
 "nbformat_minor": 4
}
